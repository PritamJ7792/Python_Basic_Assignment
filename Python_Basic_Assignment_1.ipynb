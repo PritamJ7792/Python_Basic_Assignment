{
 "cells": [
  {
   "cell_type": "markdown",
   "metadata": {},
   "source": [
    "1. What are the differences between operators and values in the following?\n",
    "\n",
    "ANS : Operators are used to perform operations on variables and values.\n",
    "        \n",
    "    Python Arithmetic Operators\n",
    "    : Arithmetic operators are used with numeric values to perform common mathematical operations:\n",
    "\n",
    "    Operators\tName\t        Example\t\n",
    "        +\t  Addition\t        x + y\t\n",
    "        -\t  Subtraction\t    x - y\t\n",
    "        *\t  Multiplication\tx * y\t\n",
    "        /\t  Division\t        x / y\t\n",
    "        %\t  Modulus\t        x % y\t\n",
    "        **\t  Exponentiation\tx ** y\t\n",
    "        //\t  Floor division\tx // y"
   ]
  },
  {
   "cell_type": "code",
   "execution_count": 3,
   "metadata": {},
   "outputs": [
    {
     "name": "stdout",
     "output_type": "stream",
     "text": [
      "49\n",
      "15\n"
     ]
    }
   ],
   "source": [
    "# *  Multiplication  \n",
    "a=int(7)\n",
    "b=int(7)\n",
    "c=a*b\n",
    "print(c)\n",
    "\n",
    "#======================================================\n",
    "x = 5\n",
    "y = 3\n",
    "\n",
    "print(x * y)\n"
   ]
  },
  {
   "cell_type": "code",
   "execution_count": 1,
   "metadata": {},
   "outputs": [
    {
     "name": "stdout",
     "output_type": "stream",
     "text": [
      "hello\n"
     ]
    }
   ],
   "source": [
    "# 'hello' - this is a string (sring values store in singal quote)\n",
    "A='hello'\n",
    "print(A)"
   ]
  },
  {
   "cell_type": "code",
   "execution_count": 15,
   "metadata": {},
   "outputs": [
    {
     "name": "stdout",
     "output_type": "stream",
     "text": [
      "-87.8\n"
     ]
    }
   ],
   "source": [
    "# -87.8    - this is the negative number values \n",
    "\n",
    "A=-87.8\n",
    "\n",
    "print(A)"
   ]
  },
  {
   "cell_type": "code",
   "execution_count": 5,
   "metadata": {},
   "outputs": [
    {
     "name": "stdout",
     "output_type": "stream",
     "text": [
      "2\n"
     ]
    }
   ],
   "source": [
    "# - Subtraction\n",
    "x = 5\n",
    "y = 3\n",
    "\n",
    "print(x - y)\n"
   ]
  },
  {
   "cell_type": "code",
   "execution_count": 9,
   "metadata": {},
   "outputs": [
    {
     "name": "stdout",
     "output_type": "stream",
     "text": [
      "4.0\n"
     ]
    }
   ],
   "source": [
    "# / Division\n",
    "\n",
    "x = 12\n",
    "y = 3\n",
    "\n",
    "print(x / y)"
   ]
  },
  {
   "cell_type": "code",
   "execution_count": 13,
   "metadata": {},
   "outputs": [
    {
     "name": "stdout",
     "output_type": "stream",
     "text": [
      "12\n"
     ]
    }
   ],
   "source": [
    "# + Addition\n",
    "x = 7\n",
    "y = 5\n",
    "\n",
    "print (x + y)"
   ]
  },
  {
   "cell_type": "code",
   "execution_count": 16,
   "metadata": {},
   "outputs": [
    {
     "name": "stdout",
     "output_type": "stream",
     "text": [
      "6\n"
     ]
    }
   ],
   "source": [
    "# 6    - this is the positive number values \n",
    "\n",
    "A=6\n",
    "\n",
    "print(A)"
   ]
  }
 ],
 "metadata": {
  "kernelspec": {
   "display_name": "Python 3",
   "language": "python",
   "name": "python3"
  },
  "language_info": {
   "codemirror_mode": {
    "name": "ipython",
    "version": 3
   },
   "file_extension": ".py",
   "mimetype": "text/x-python",
   "name": "python",
   "nbconvert_exporter": "python",
   "pygments_lexer": "ipython3",
   "version": "3.8.5"
  }
 },
 "nbformat": 4,
 "nbformat_minor": 4
}
