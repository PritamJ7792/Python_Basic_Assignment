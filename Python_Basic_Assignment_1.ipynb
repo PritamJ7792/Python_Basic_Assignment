{
 "cells": [
  {
   "cell_type": "markdown",
   "metadata": {},
   "source": [
    "# Python_Basic_Assignment_1"
   ]
  },
  {
   "cell_type": "markdown",
   "metadata": {},
   "source": [
    "1. What are the differences between operators and values in the following?\n",
    "    *,'hello',-87.8,-,/,+,6\n",
    "\n",
    "ANS : Operators are used to perform operations on variables and values.\n",
    "        \n",
    "    Python Arithmetic Operators\n",
    "    : Arithmetic operators are used with numeric values to perform common mathematical operations:\n",
    "\n",
    "    Operators\tName\t        Example\t\n",
    "        +\t  Addition\t        x + y\t\n",
    "        -\t  Subtraction\t    x - y\t\n",
    "        *\t  Multiplication\tx * y\t\n",
    "        /\t  Division\t        x / y\t\n",
    "        %\t  Modulus\t        x % y\t\n",
    "        **\t  Exponentiation\tx ** y\t\n",
    "        //\t  Floor division\tx // y"
   ]
  },
  {
   "cell_type": "code",
   "execution_count": 3,
   "metadata": {},
   "outputs": [
    {
     "name": "stdout",
     "output_type": "stream",
     "text": [
      "49\n",
      "15\n"
     ]
    }
   ],
   "source": [
    "# *  Multiplication  \n",
    "a=int(7)\n",
    "b=int(7)\n",
    "c=a*b\n",
    "print(c)\n",
    "\n",
    "#======================================================\n",
    "x = 5\n",
    "y = 3\n",
    "\n",
    "print(x * y)\n"
   ]
  },
  {
   "cell_type": "code",
   "execution_count": 1,
   "metadata": {},
   "outputs": [
    {
     "name": "stdout",
     "output_type": "stream",
     "text": [
      "hello\n"
     ]
    }
   ],
   "source": [
    "# 'hello' - this is a string (sring values store in singal quote)\n",
    "A='hello'\n",
    "print(A)"
   ]
  },
  {
   "cell_type": "code",
   "execution_count": 15,
   "metadata": {},
   "outputs": [
    {
     "name": "stdout",
     "output_type": "stream",
     "text": [
      "-87.8\n"
     ]
    }
   ],
   "source": [
    "# -87.8    - this is the negative number values \n",
    "\n",
    "A=-87.8\n",
    "\n",
    "print(A)"
   ]
  },
  {
   "cell_type": "code",
   "execution_count": 5,
   "metadata": {},
   "outputs": [
    {
     "name": "stdout",
     "output_type": "stream",
     "text": [
      "2\n"
     ]
    }
   ],
   "source": [
    "# - Subtraction\n",
    "x = 5\n",
    "y = 3\n",
    "\n",
    "print(x - y)\n"
   ]
  },
  {
   "cell_type": "code",
   "execution_count": 9,
   "metadata": {},
   "outputs": [
    {
     "name": "stdout",
     "output_type": "stream",
     "text": [
      "4.0\n"
     ]
    }
   ],
   "source": [
    "# / Division\n",
    "\n",
    "x = 12\n",
    "y = 3\n",
    "\n",
    "print(x / y)"
   ]
  },
  {
   "cell_type": "code",
   "execution_count": 13,
   "metadata": {},
   "outputs": [
    {
     "name": "stdout",
     "output_type": "stream",
     "text": [
      "12\n"
     ]
    }
   ],
   "source": [
    "# + Addition\n",
    "x = 7\n",
    "y = 5\n",
    "\n",
    "print (x + y)"
   ]
  },
  {
   "cell_type": "code",
   "execution_count": 17,
   "metadata": {},
   "outputs": [
    {
     "name": "stdout",
     "output_type": "stream",
     "text": [
      "6\n"
     ]
    }
   ],
   "source": [
    "# 6    - this is the positive number values \n",
    "\n",
    "A=6\n",
    "\n",
    "print(A)"
   ]
  },
  {
   "cell_type": "markdown",
   "metadata": {},
   "source": [
    "2. What is the difference between string and variable?\n",
    "spam\n",
    "'spam'\n",
    "\n",
    "ANS :  variable - Variables are containers for storing data values.\n",
    "    : A variable name must start with a letter or the underscore character\n",
    "    : A variable name cannot start with a number\n",
    "    : A variable name can only contain alpha-numeric characters and underscores (A-z, 0-9, and _ )\n",
    "    : Variable names are case-sensitive (age, Age and AGE are three different variables)"
   ]
  },
  {
   "cell_type": "code",
   "execution_count": 2,
   "metadata": {},
   "outputs": [
    {
     "name": "stdout",
     "output_type": "stream",
     "text": [
      "5\n",
      "John\n"
     ]
    }
   ],
   "source": [
    "# variables\n",
    "\n",
    "x = 5\n",
    "y = \"John\"\n",
    "print(x)\n",
    "print(y)"
   ]
  },
  {
   "cell_type": "markdown",
   "metadata": {},
   "source": [
    "3. Describe three different data forms.\n",
    "\n",
    "    ANS : In programming, data type is an important concept.\n",
    "\n",
    "        Variables can store data of different types, and different types can do different things.\n",
    "\n",
    "    Python has the following data types built-in by default, in these categories:\n",
    "\n",
    "        Text Type:\tstr\n",
    "    Numeric Types:\tint, float, complex\n",
    "    Sequence Types:\tlist, tuple, range\n",
    "    Mapping Type:\tdict\n",
    "        Set Types:\tset, frozenset\n",
    "    Boolean Type:\tbool\n",
    "    Binary Types:\tbytes, bytearray, memoryview\n",
    "    \n",
    "    Example\tData Type\t\n",
    "        x = \"Hello World\"\tstr\t\n",
    "        x = 20\t            int\t\n",
    "        x = 20.5\t        float\t\n",
    "        x = 1j\tcomplex\t\n",
    "        x = [\"apple\",\"banana\",\"cherry\"]\t    list\t\n",
    "        x = (\"apple\", \"banana\", \"cherry\")\ttuple\t\n",
    "        x = range(6)\t                    range\t\n",
    "        x = {\"name\" : \"John\", \"age\" : 36}\tdict\t\n",
    "        x = {\"apple\", \"banana\", \"cherry\"}\tset\t\n",
    "        x = frozenset({\"apple\", \"banana\", \"cherry\"})\tfrozenset\t\n",
    "        x = True\t                                    bool\t\n",
    "        x = b\"Hello\"\t                                bytes\t\n",
    "        x = bytearray(5)\t                            bytearray\t\n",
    "        x = memoryview(bytes(5))\t                    memoryview"
   ]
  },
  {
   "cell_type": "markdown",
   "metadata": {},
   "source": [
    "4. What makes up an expression? What are the functions of all expressions?\n",
    "\n",
    "expression use for perform any operarions on value or variale and using some pre-defined functiion makes easy to perform the operations like thet check below.\n",
    "\n",
    "    Expressions : Expressions are representations of value. They are different from statement in the fact that statements do something while expressions are representation of value. For example any string is also an expressions since it represents the value of the string as well.\n",
    "\n",
    "    Functions : A function is a block of code which only runs when it is called.\n",
    "\n",
    "                You can pass data, known as parameters, into a function.\n",
    "\n",
    "                A function can return data as a result."
   ]
  },
  {
   "cell_type": "code",
   "execution_count": 6,
   "metadata": {},
   "outputs": [
    {
     "name": "stdout",
     "output_type": "stream",
     "text": [
      "5.333333333333333\n"
     ]
    }
   ],
   "source": [
    "# perform operations on below below expression using variable vales \n",
    "a = 1\n",
    "b = 4\n",
    "c= (a*b)+b /(a+2)\n",
    "print(c)"
   ]
  },
  {
   "cell_type": "markdown",
   "metadata": {},
   "source": [
    "5. In this chapter, assignment statements such as spam = 10 were added. What's the difference between a declaration and an expression?\n",
    "\n",
    "    ANS : Declaration -\n",
    "    \n",
    "    Assigment statement declare as a spam=10 means you are declaring / creating a varaible which is name \"spam\" and assing a value 10 (int) to this vairable.  \n",
    "    \n",
    "    ANS : Expression -\n",
    "    you create any type of epression for perorm some operation s using variable which is created by you and assing value 10 tp variable \"spam\"\n"
   ]
  },
  {
   "cell_type": "code",
   "execution_count": 8,
   "metadata": {},
   "outputs": [
    {
     "name": "stdout",
     "output_type": "stream",
     "text": [
      "spam value is 10\n",
      "30\n"
     ]
    }
   ],
   "source": [
    "# perform operations on below below expression using variable vales \n",
    "\n",
    "spam = 10\n",
    "\n",
    "print(\"spam value is\",spam)\n",
    "\n",
    "# perform operations on below below expression using variable vales \n",
    "\n",
    "b = 4\n",
    "c= (spam+5)*2\n",
    "\n",
    "print(c)"
   ]
  },
  {
   "cell_type": "markdown",
   "metadata": {},
   "source": [
    "6. After running the following code, what does the variable bacon contain?\n",
    "bacon = 22\n",
    "bacon + 1\n",
    "\n",
    "ANS : bacon = 22 In this variable assign a 22 int value to this variable and then we are perform one expression operation and add 1 int value into the defined variable so after that we got a return values is 23.\n",
    "\n",
    "Pleae find the below opearations"
   ]
  },
  {
   "cell_type": "code",
   "execution_count": 10,
   "metadata": {},
   "outputs": [
    {
     "data": {
      "text/plain": [
       "23"
      ]
     },
     "execution_count": 10,
     "metadata": {},
     "output_type": "execute_result"
    }
   ],
   "source": [
    "# create variable and assign a 22 int value to bacon and then add 1 value into the thi variable\n",
    "\n",
    "bacon=22\n",
    "bacon+1"
   ]
  },
  {
   "cell_type": "markdown",
   "metadata": {},
   "source": [
    "7. What should the values of the following two terms be?\n",
    "    'spam' + 'spamspam'  here do addioition of two str \n",
    "    'spam' * 3\n",
    "\n",
    "    AND : 'spam' + 'spamspam'  here do addioition of two string\n",
    "           'spam' * 3          here do multiplication with string and getting a multiplication result       \n"
   ]
  },
  {
   "cell_type": "code",
   "execution_count": 14,
   "metadata": {},
   "outputs": [
    {
     "data": {
      "text/plain": [
       "'spamspamspam'"
      ]
     },
     "execution_count": 14,
     "metadata": {},
     "output_type": "execute_result"
    }
   ],
   "source": [
    "#'spam' + 'spamspam'  here do addioition of two string\n",
    "'spam' + 'spamspam'"
   ]
  },
  {
   "cell_type": "code",
   "execution_count": 15,
   "metadata": {},
   "outputs": [
    {
     "data": {
      "text/plain": [
       "'spamspamspam'"
      ]
     },
     "execution_count": 15,
     "metadata": {},
     "output_type": "execute_result"
    }
   ],
   "source": [
    "#'spam' * 3          here do multiplication with string and getting a multiplication result\n",
    "'spam' * 3"
   ]
  },
  {
   "cell_type": "markdown",
   "metadata": {},
   "source": [
    "8. Why is it that eggs is a true variable name but 100 is not?\n",
    "\n",
    "    ANS: Variable Names\n",
    "    \n",
    "    1.A variable can have a short name (like x and y) or a more descriptive name (age, carname, total_volume). Rules for Python variables:\n",
    "    2.A variable name must start with a letter or the underscore character\n",
    "    3.A variable name cannot start with a number\n",
    "    4.A variable name can only contain alpha-numeric characters and underscores (A-z, 0-9, and _ )\n",
    "    5.Variable names are case-sensitive (age, Age and AGE are three different variables)\n",
    "    \n",
    "    Python Variable Names\n",
    "        A variable name must start with a letter or the underscore character.\n",
    "        A variable name cannot start with a number.\n",
    "        A variable name can only contain alpha-numeric characters and underscores (A-z, 0-9, and _ )\n",
    "        Variable names are case-sensitive (age, Age and AGE are three different variables)\n"
   ]
  },
  {
   "cell_type": "code",
   "execution_count": 18,
   "metadata": {},
   "outputs": [
    {
     "name": "stdout",
     "output_type": "stream",
     "text": [
      "John\n",
      "eggs\n",
      "100\n"
     ]
    }
   ],
   "source": [
    "\"\"\" here is create egge name vairabe and also create 100 name variable \n",
    "but as per the above unable to create variable using starting with number values \"\"\"\n",
    "\n",
    "my_variable_name = \"John\"\n",
    "\n",
    "print(my_variable_name)\n",
    "\n",
    "eggs = 'eggs'\n",
    "print(eggs)\n",
    "\n",
    "eggs1=100\n",
    "print(eggs1)"
   ]
  },
  {
   "cell_type": "markdown",
   "metadata": {},
   "source": [
    "9. Which of the following three functions may be used to convert a value to an integer, a floating-point number, or a string?\n",
    "\n",
    "ANS : Casting in python is therefore done using constructor functions:\n",
    "\n",
    "int() - constructs an integer number from an integer literal, a float literal (by removing all decimals), or a string literal (providing the string represents a whole number)\n",
    "\n",
    "float() - constructs a float number from an integer literal, a float literal or a string literal (providing the string represents a float or an integer)\n",
    "\n",
    "str() - constructs a string from a wide variety of data types, including strings, integer literals and float literals"
   ]
  },
  {
   "cell_type": "code",
   "execution_count": 25,
   "metadata": {},
   "outputs": [],
   "source": [
    "#Example : Integers:\n",
    "\n",
    "x = int(1)   # x will be 1\n",
    "y = int(2.8) # y will be 2\n",
    "z = int(\"3\") # z will be 3\n",
    "\n",
    "#Example : Floats:\n",
    "\n",
    "x = float(1)     # x will be 1.0\n",
    "y = float(2.8)   # y will be 2.8\n",
    "z = float(\"3\")   # z will be 3.0\n",
    "w = float(\"4.2\") # w will be 4.2\n",
    "\n",
    "#Example : Strings:\n",
    "\n",
    "x = str(\"s1\") # x will be 's1'\n",
    "y = str(2)    # y will be '2'\n",
    "z = str(3.0)  # z will be '3.0'"
   ]
  },
  {
   "cell_type": "markdown",
   "metadata": {},
   "source": [
    "10. What is the error caused by this expression? What would you do about it?\n",
    "\n",
    "'I have eaten ' + 99 + ' burritos.'\n"
   ]
  },
  {
   "cell_type": "code",
   "execution_count": 29,
   "metadata": {},
   "outputs": [
    {
     "name": "stdout",
     "output_type": "stream",
     "text": [
      "I have eaten 99 burritos.\n"
     ]
    }
   ],
   "source": [
    "# here is 99 is a inter=ger value so i am converting this value into str (casting the values)\n",
    "a = 'I have eaten ' + str(99) + ' burritos.'\n",
    "\n",
    "print(a)"
   ]
  },
  {
   "cell_type": "code",
   "execution_count": null,
   "metadata": {},
   "outputs": [],
   "source": []
  }
 ],
 "metadata": {
  "kernelspec": {
   "display_name": "Python 3",
   "language": "python",
   "name": "python3"
  },
  "language_info": {
   "codemirror_mode": {
    "name": "ipython",
    "version": 3
   },
   "file_extension": ".py",
   "mimetype": "text/x-python",
   "name": "python",
   "nbconvert_exporter": "python",
   "pygments_lexer": "ipython3",
   "version": "3.8.5"
  }
 },
 "nbformat": 4,
 "nbformat_minor": 4
}
